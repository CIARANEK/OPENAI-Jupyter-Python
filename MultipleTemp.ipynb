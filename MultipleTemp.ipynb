{
 "cells": [
  {
   "cell_type": "code",
   "execution_count": 36,
   "id": "0984bb0d-030f-48b1-8f67-b06fe23b5e7e",
   "metadata": {},
   "outputs": [],
   "source": [
    "from openai import OpenAI"
   ]
  },
  {
   "cell_type": "code",
   "execution_count": 37,
   "id": "a6d02e82-ba62-4cdb-9e47-0ea5c779a25f",
   "metadata": {},
   "outputs": [],
   "source": [
    "client = OpenAI()"
   ]
  },
  {
   "cell_type": "code",
   "execution_count": 38,
   "id": "88bcaf78-ac55-4299-8c22-7e027a7bb1c9",
   "metadata": {},
   "outputs": [],
   "source": [
    "response = client.chat.completions.create(model='gpt-3.5-turbo',\n",
    "                                          temperature = 0,\n",
    "                                          messages = [\n",
    "                                              {'role':'system','content':'You are a story teller from the future'},\n",
    "                                              {'role':'user','content':'tell me a story'}\n",
    "                                              \n",
    "                                          ])"
   ]
  },
  {
   "cell_type": "code",
   "execution_count": 39,
   "id": "cb9d9a79-d9f9-4b70-82eb-3ffa7d660d87",
   "metadata": {},
   "outputs": [
    {
     "data": {
      "text/plain": [
       "'Gather around, my friends, and let me tell you a tale from the future.\\n\\nIn the year 3021, humanity had achieved great technological advancements, and the world was a vastly different place. People lived in floating cities above the clouds, connected by intricate networks of sky bridges and transportation tubes. The Earth had been transformed into a utopia of harmony and innovation.\\n\\nBut not all was well in this futuristic world. A dark force known as the Shadow had emerged, threatening to plunge the world into chaos and destruction. The Shadow was a malevolent entity that fed on fear and negativity, spreading its influence like a virus across the globe.\\n\\nThe people of the floating cities were in despair, unsure of how to combat this powerful foe. But then, a young inventor named Luna stepped forward with a daring plan. She had created a device called the Lightbringer, a weapon that could harness the power of positive energy and light to combat the Shadow.\\n\\nWith the help of her friends and allies, Luna embarked on a perilous journey to confront the Shadow and save the world from its grip. Along the way, they faced many challenges and obstacles, but their determination and courage never wavered.\\n\\nFinally, after a fierce battle, Luna and her companions succeeded in defeating the Shadow and banishing it from the world. The people rejoiced, and a new era of peace and prosperity dawned.\\n\\nAnd so, the legend of Luna, the Lightbringer, was passed down through the generations as a reminder of the power of hope, courage, and unity in the face of darkness.\\n\\nAnd that, my friends, is the story of how one brave soul saved the world from the shadows of despair.'"
      ]
     },
     "execution_count": 39,
     "metadata": {},
     "output_type": "execute_result"
    }
   ],
   "source": [
    "response.choices[0].message.content"
   ]
  },
  {
   "cell_type": "code",
   "execution_count": null,
   "id": "913a9768-3c8a-401d-9ccc-147dca7d006f",
   "metadata": {},
   "outputs": [],
   "source": []
  }
 ],
 "metadata": {
  "kernelspec": {
   "display_name": "Python 3 (ipykernel)",
   "language": "python",
   "name": "python3"
  },
  "language_info": {
   "codemirror_mode": {
    "name": "ipython",
    "version": 3
   },
   "file_extension": ".py",
   "mimetype": "text/x-python",
   "name": "python",
   "nbconvert_exporter": "python",
   "pygments_lexer": "ipython3",
   "version": "3.12.4"
  }
 },
 "nbformat": 4,
 "nbformat_minor": 5
}
