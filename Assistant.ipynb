{
 "cells": [
  {
   "cell_type": "code",
   "execution_count": 2,
   "id": "221b1f46-20e3-403a-8b19-1714c1428703",
   "metadata": {},
   "outputs": [],
   "source": [
    "from openai import OpenAI"
   ]
  },
  {
   "cell_type": "code",
   "execution_count": 3,
   "id": "c284bdd3-6997-4845-bda2-06292563a704",
   "metadata": {},
   "outputs": [],
   "source": [
    "client = OpenAI()"
   ]
  },
  {
   "cell_type": "code",
   "execution_count": 4,
   "id": "52315c8d-4bcd-4033-adc6-315625d88da7",
   "metadata": {},
   "outputs": [],
   "source": [
    "answer = 123456 * 456789"
   ]
  },
  {
   "cell_type": "code",
   "execution_count": 5,
   "id": "a46adb54-85ff-4cca-a541-bc230e8b718c",
   "metadata": {},
   "outputs": [
    {
     "data": {
      "text/plain": [
       "56393342784"
      ]
     },
     "execution_count": 5,
     "metadata": {},
     "output_type": "execute_result"
    }
   ],
   "source": [
    "answer"
   ]
  },
  {
   "cell_type": "code",
   "execution_count": 25,
   "id": "87671407-8c53-4e51-94f1-53156fedaf66",
   "metadata": {},
   "outputs": [],
   "source": [
    "response = client.chat.completions.create(\n",
    "        model='gpt-3.5-turbo',\n",
    "        messages = [\n",
    "            {'role':'system','content':'You convert word problems into Python code. Only return the python equivalent, no other commentary'},\n",
    "            {'role':'user','content':'What is 123456 times 456789'}\n",
    "        ],\n",
    "    temperature=0\n",
    ")"
   ]
  },
  {
   "cell_type": "code",
   "execution_count": 27,
   "id": "b39084e3-459a-4355-a04f-435c88a5f77e",
   "metadata": {},
   "outputs": [
    {
     "data": {
      "text/plain": [
       "56393342784"
      ]
     },
     "execution_count": 27,
     "metadata": {},
     "output_type": "execute_result"
    }
   ],
   "source": [
    "eval(response.choices[0].message.content)"
   ]
  },
  {
   "cell_type": "code",
   "execution_count": null,
   "id": "6652f99c-ad39-4b2d-af84-caf4d5de6f41",
   "metadata": {},
   "outputs": [],
   "source": []
  }
 ],
 "metadata": {
  "kernelspec": {
   "display_name": "Python 3 (ipykernel)",
   "language": "python",
   "name": "python3"
  },
  "language_info": {
   "codemirror_mode": {
    "name": "ipython",
    "version": 3
   },
   "file_extension": ".py",
   "mimetype": "text/x-python",
   "name": "python",
   "nbconvert_exporter": "python",
   "pygments_lexer": "ipython3",
   "version": "3.12.4"
  }
 },
 "nbformat": 4,
 "nbformat_minor": 5
}
