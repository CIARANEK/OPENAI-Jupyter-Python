{
 "cells": [
  {
   "cell_type": "code",
   "execution_count": 1,
   "id": "7dee2fd6-ae43-43c9-a119-9da6c67984e6",
   "metadata": {},
   "outputs": [],
   "source": [
    "def president_home_state(president,state_options):\n",
    "    \n",
    "    print(\"Hello! Let's test your knowledge of the home states of US Presidents!\")\n",
    "    print(f\"In what state was this president born: {president}\\n\")\n",
    "    \n",
    "    for num,option in enumerate(state_options):\n",
    "        print('\\n')\n",
    "        print(f\"Definition #{num} is: {option}\")\n",
    "    \n",
    "    print('\\n')\n",
    "    num_choice = input(\"What is your choice? (Return the single number option)\")\n",
    "    \n",
    "    return state_options[int(num_choice)]\n",
    "    "
   ]
  },
  {
   "cell_type": "code",
   "execution_count": null,
   "id": "2894865f-d2ca-4884-a99a-03a411a73294",
   "metadata": {},
   "outputs": [],
   "source": [
    "# president_home_state(\"George Washington\", [\"Virginia\", \"New York\", \"Massachusetts\"])"
   ]
  },
  {
   "cell_type": "code",
   "execution_count": 2,
   "id": "a14d845e-4911-4c89-a55f-c0805eab445e",
   "metadata": {},
   "outputs": [],
   "source": [
    "function_json = {'type':'function',\n",
    "            'function':{\n",
    "                'name': 'president_home_state',\n",
    "                'parameters':{\n",
    "                    \"type\":\"object\",\n",
    "                      \"properties\":{\n",
    "                          \"president\": {'type':'string','description':\"The name of a random US President\"},\n",
    "                          \"state_options\":{'type':'array',\n",
    "                                        'items':{'type':'string'},\n",
    "                                        'description':\"A Python list of strings of US States, where one of the states is the birthplace state of the US President.\"}\n",
    "                      },\n",
    "                    'required' : [\"president\",\"state_options\"]\n",
    "                }\n",
    "\n",
    "    }\n",
    "} "
   ]
  },
  {
   "cell_type": "code",
   "execution_count": 3,
   "id": "58c2997c-9555-4425-8769-31041038ab33",
   "metadata": {},
   "outputs": [],
   "source": [
    "from openai import OpenAI\n"
   ]
  },
  {
   "cell_type": "code",
   "execution_count": 4,
   "id": "aee1cd22-8468-4efb-8bc0-aa306b8ddc10",
   "metadata": {},
   "outputs": [],
   "source": [
    "client = OpenAI()"
   ]
  },
  {
   "cell_type": "code",
   "execution_count": 5,
   "id": "4d510268-240b-4496-bfdb-fa8498a469fc",
   "metadata": {},
   "outputs": [],
   "source": [
    "assistant = client.beta.assistants.create(name='US Presidents Quiz Bot',\n",
    "  instructions=\"You help create a quiz where you give a US President and a list of birthplace states, where only one is the correct birthplace state of the president. Later you check if answers returned are correct.\",\n",
    "  model=\"gpt-3.5-turbo\",\n",
    "  tools=[function_json]\n",
    ")"
   ]
  },
  {
   "cell_type": "code",
   "execution_count": 6,
   "id": "a4d1015e-c133-4f23-b149-79017cb36691",
   "metadata": {},
   "outputs": [],
   "source": [
    "thread = client.beta.threads.create()"
   ]
  },
  {
   "cell_type": "code",
   "execution_count": 7,
   "id": "59dbb8de-395e-4dc5-a5d5-d40ee8aa2618",
   "metadata": {},
   "outputs": [],
   "source": [
    "message = client.beta.threads.messages.create(\n",
    "    thread_id=thread.id,\n",
    "    role=\"user\",\n",
    "    content=\"Create a new quiz question with a US President and a list of options for the home state of birth. Then I will reply with a single state and let me know if I got it right.\",\n",
    ")"
   ]
  },
  {
   "cell_type": "code",
   "execution_count": 8,
   "id": "f023fb95-fad8-4f9b-a93e-0b6d1c0d001e",
   "metadata": {},
   "outputs": [],
   "source": [
    "run = client.beta.threads.runs.create(thread_id=thread.id,assistant_id=assistant.id)"
   ]
  },
  {
   "cell_type": "code",
   "execution_count": 9,
   "id": "371857ac-51d7-4891-b0b1-c87b74e0199a",
   "metadata": {},
   "outputs": [],
   "source": [
    "run = client.beta.threads.runs.retrieve(thread_id=thread.id,run_id=run.id)"
   ]
  },
  {
   "cell_type": "code",
   "execution_count": 10,
   "id": "20e7bf42-5838-4386-b7c4-26deb10a2d2a",
   "metadata": {},
   "outputs": [
    {
     "data": {
      "text/plain": [
       "'requires_action'"
      ]
     },
     "execution_count": 10,
     "metadata": {},
     "output_type": "execute_result"
    }
   ],
   "source": [
    "run.status"
   ]
  },
  {
   "cell_type": "code",
   "execution_count": 11,
   "id": "3add7317-ddf6-4d29-a24e-12e8ae8850c2",
   "metadata": {},
   "outputs": [],
   "source": [
    "import json"
   ]
  },
  {
   "cell_type": "code",
   "execution_count": 12,
   "id": "7c09da88-4825-4e85-8e1e-fdd381de5def",
   "metadata": {},
   "outputs": [],
   "source": [
    "tool_call = run.required_action.submit_tool_outputs.tool_calls[0]\n",
    "name = tool_call.function.name\n",
    "arguments = json.loads(tool_call.function.arguments)"
   ]
  },
  {
   "cell_type": "code",
   "execution_count": 13,
   "id": "04643e8d-5eb6-4904-8883-1f3da6882a7d",
   "metadata": {},
   "outputs": [
    {
     "data": {
      "text/plain": [
       "{'president': 'Abraham Lincoln',\n",
       " 'state_options': ['Kentucky', 'Illinois', 'Ohio', 'Virginia']}"
      ]
     },
     "execution_count": 13,
     "metadata": {},
     "output_type": "execute_result"
    }
   ],
   "source": [
    "arguments"
   ]
  },
  {
   "cell_type": "code",
   "execution_count": 14,
   "id": "9e6b4998-5640-46ed-b62c-982c0d7dd7a9",
   "metadata": {},
   "outputs": [
    {
     "data": {
      "text/plain": [
       "'president_home_state'"
      ]
     },
     "execution_count": 14,
     "metadata": {},
     "output_type": "execute_result"
    }
   ],
   "source": [
    "name"
   ]
  },
  {
   "cell_type": "code",
   "execution_count": 15,
   "id": "9bdbbbf1-562a-4a4f-ae29-88c602fa416b",
   "metadata": {},
   "outputs": [
    {
     "name": "stdout",
     "output_type": "stream",
     "text": [
      "Hello! Let's test your knowledge of the home states of US Presidents!\n",
      "In what state was this president born: Abraham Lincoln\n",
      "\n",
      "\n",
      "\n",
      "Definition #0 is: Kentucky\n",
      "\n",
      "\n",
      "Definition #1 is: Illinois\n",
      "\n",
      "\n",
      "Definition #2 is: Ohio\n",
      "\n",
      "\n",
      "Definition #3 is: Virginia\n",
      "\n",
      "\n"
     ]
    },
    {
     "name": "stdin",
     "output_type": "stream",
     "text": [
      "What is your choice? (Return the single number option) 1\n"
     ]
    }
   ],
   "source": [
    "response = president_home_state(arguments['president'],arguments['state_options'])"
   ]
  },
  {
   "cell_type": "code",
   "execution_count": 16,
   "id": "c4bb22b3-4df0-45f7-a60d-f3b00a430c9f",
   "metadata": {},
   "outputs": [
    {
     "data": {
      "text/plain": [
       "'Illinois'"
      ]
     },
     "execution_count": 16,
     "metadata": {},
     "output_type": "execute_result"
    }
   ],
   "source": [
    "response"
   ]
  },
  {
   "cell_type": "code",
   "execution_count": 17,
   "id": "734baf4a-d303-48ea-90ce-ee125513b4f9",
   "metadata": {},
   "outputs": [],
   "source": [
    "run = client.beta.threads.runs.submit_tool_outputs(\n",
    "    thread_id=thread.id,\n",
    "    run_id=run.id,\n",
    "    tool_outputs=[\n",
    "        {\"tool_call_id\": tool_call.id,\n",
    "            \"output\": json.dumps(response),\n",
    "        }\n",
    "    ],\n",
    ")"
   ]
  },
  {
   "cell_type": "code",
   "execution_count": 18,
   "id": "591684f6-de04-4035-95ba-a5867ef42166",
   "metadata": {},
   "outputs": [],
   "source": [
    "# run"
   ]
  },
  {
   "cell_type": "code",
   "execution_count": 19,
   "id": "fc62cbf6-a2f8-4bbc-a76d-a2d755e9981f",
   "metadata": {},
   "outputs": [],
   "source": [
    "messages = client.beta.threads.messages.list(thread.id)"
   ]
  },
  {
   "cell_type": "code",
   "execution_count": 20,
   "id": "15047e70-cf88-4f1a-be10-c9811e8965c6",
   "metadata": {},
   "outputs": [
    {
     "name": "stdout",
     "output_type": "stream",
     "text": [
      "Was Abraham Lincoln born in Illinois?\n",
      "- Yes, that's correct! Abraham Lincoln was born in Illinois.\n",
      "\n",
      "\n",
      "Create a new quiz question with a US President and a list of options for the home state of birth. Then I will reply with a single state and let me know if I got it right.\n",
      "\n",
      "\n"
     ]
    }
   ],
   "source": [
    "for thread_message in messages:\n",
    "    print(thread_message.content[0].text.value)\n",
    "    print('\\n')"
   ]
  },
  {
   "cell_type": "code",
   "execution_count": 21,
   "id": "2653f1f6-25b6-4ffe-8e50-636345e9aef9",
   "metadata": {},
   "outputs": [],
   "source": [
    "my_assistants = client.beta.assistants.list(\n",
    "    order=\"desc\",\n",
    "    limit=\"20\",\n",
    ")\n",
    "response = client.beta.assistants.delete(my_assistants.data[0].id)"
   ]
  },
  {
   "cell_type": "code",
   "execution_count": null,
   "id": "e1106063-9ef6-4ea5-9891-8dbc2f8b1027",
   "metadata": {},
   "outputs": [],
   "source": []
  }
 ],
 "metadata": {
  "kernelspec": {
   "display_name": "Python 3 (ipykernel)",
   "language": "python",
   "name": "python3"
  },
  "language_info": {
   "codemirror_mode": {
    "name": "ipython",
    "version": 3
   },
   "file_extension": ".py",
   "mimetype": "text/x-python",
   "name": "python",
   "nbconvert_exporter": "python",
   "pygments_lexer": "ipython3",
   "version": "3.12.4"
  }
 },
 "nbformat": 4,
 "nbformat_minor": 5
}
