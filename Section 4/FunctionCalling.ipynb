{
 "cells": [
  {
   "cell_type": "code",
   "execution_count": null,
   "id": "5247e8cf-80a0-458b-b162-4ba5e6272bc9",
   "metadata": {},
   "outputs": [],
   "source": [
    "def word_definition_quiz(word,definition_options):\n",
    "    print('Welcome to the word quiz.')\n",
    "    print(f'What is the correct definition of this word: {word}\\n')\n",
    "    \n",
    "    for num,option in enumerate(definition_options):\n",
    "        print('\\n')\n",
    "        print(f'Definition #{num} is: {option}')\n",
    "    \n",
    "    print('\\n')\n",
    "    num_choice = input(\"What is your choice? (Return the single number option)\")\n",
    "    return definition_options[int(num_choice)]"
   ]
  },
  {
   "cell_type": "code",
   "execution_count": null,
   "id": "e51d3740-97e2-49aa-aaf8-2d57eec57212",
   "metadata": {},
   "outputs": [],
   "source": [
    "# word_definition_quiz(\"hello\",['greeting','farewell','sandwich'])"
   ]
  },
  {
   "cell_type": "code",
   "execution_count": null,
   "id": "3b0ba31a-9b1e-4bd7-9559-cfc6b42a895b",
   "metadata": {},
   "outputs": [],
   "source": [
    "function_json = {'type':'function',\n",
    "                 'function':{\n",
    "                     'name':'word_definition_quiz',\n",
    "                     'parameters':{\n",
    "                         'type':'object',\n",
    "                          'properties':{\n",
    "                          'word': {'type':'string','description':'A random word'},\n",
    "                          'definition_options': {'type':'array',\n",
    "                                                 'items':{'type':'string'},\n",
    "                                                 'description':\"A Python list of strings of definitions, where only one is the correct definition for the word.\"\n",
    "                                                }\n",
    "                          },\n",
    "                         'required': ['word','defintion_options']\n",
    "                     }\n",
    "                 }\n",
    "                }\n",
    "                    \n",
    "                     "
   ]
  },
  {
   "cell_type": "code",
   "execution_count": null,
   "id": "40d61ce5-5c2c-4dc6-a075-3cfbde53bc24",
   "metadata": {},
   "outputs": [],
   "source": [
    "from openai import OpenAI"
   ]
  },
  {
   "cell_type": "code",
   "execution_count": null,
   "id": "1cf61225-b896-49c7-af4c-67cc65d0ccb1",
   "metadata": {},
   "outputs": [],
   "source": [
    "client = OpenAI()"
   ]
  },
  {
   "cell_type": "code",
   "execution_count": null,
   "id": "96321fe7-11b9-4f9a-9df4-a11db1222b04",
   "metadata": {},
   "outputs": [],
   "source": [
    "instructions = \"You help create a quiz for checking definitions of words, providing a word and then multiple definition options, where only one option is correct.\""
   ]
  },
  {
   "cell_type": "code",
   "execution_count": null,
   "id": "02d68e53-20d0-4eb5-803b-29ccf7c5acf9",
   "metadata": {},
   "outputs": [],
   "source": [
    "assistant = client.beta.assistants.create(instructions=instructions,\n",
    "  model=\"gpt-3.5-turbo\",\n",
    "  tools=[function_json]\n",
    ")"
   ]
  },
  {
   "cell_type": "code",
   "execution_count": null,
   "id": "9e25ee5b-7e94-4afe-a77d-3b7a8170d8dd",
   "metadata": {},
   "outputs": [],
   "source": [
    "thread = client.beta.threads.create()"
   ]
  },
  {
   "cell_type": "code",
   "execution_count": null,
   "id": "39591b94-43c3-4d10-a07e-8bd911167e41",
   "metadata": {},
   "outputs": [],
   "source": [
    "message = client.beta.threads.messages.create(thread_id=thread.id,\n",
    "                                              role='user',\n",
    "                                              content='Create a new quiz question word and definition list. Then let me know if the student answer recieved is correct'\n",
    "                                             )\n",
    "                                              "
   ]
  },
  {
   "cell_type": "code",
   "execution_count": null,
   "id": "8b8f01cd-26f0-4146-bb6b-83b92e88f8cd",
   "metadata": {},
   "outputs": [],
   "source": [
    "import time\n",
    "\n",
    "def wait_on_run(run, thread):\n",
    "    while run.status == \"queued\" or run.status == \"in_progress\":\n",
    "        run = client.beta.threads.runs.retrieve(thread_id=thread.id,run_id=run.id,)\n",
    "        time.sleep(0.5)\n",
    "        \n",
    "    return run"
   ]
  },
  {
   "cell_type": "code",
   "execution_count": null,
   "id": "68a1e229-ce42-4d7d-92e4-2bb1a34db9d8",
   "metadata": {},
   "outputs": [],
   "source": [
    "run = client.beta.threads.runs.create(thread_id=thread.id,assistant_id=assistant.id)"
   ]
  },
  {
   "cell_type": "code",
   "execution_count": null,
   "id": "e3cfc045-51a7-4932-932d-81f89be38f61",
   "metadata": {},
   "outputs": [],
   "source": [
    "wait_on_run(run,thread)"
   ]
  },
  {
   "cell_type": "code",
   "execution_count": null,
   "id": "fd2a8f35-5084-4be2-aee4-e457800cd10f",
   "metadata": {},
   "outputs": [],
   "source": [
    "run.status"
   ]
  },
  {
   "cell_type": "code",
   "execution_count": null,
   "id": "e67ff46a-2e54-4ea7-9e7f-8be69b8dcbc9",
   "metadata": {},
   "outputs": [],
   "source": [
    "run = client.beta.threads.runs.retrieve(thread_id=thread.id,run_id=run.id,)"
   ]
  },
  {
   "cell_type": "code",
   "execution_count": null,
   "id": "727c1ff0-6c9f-4fcd-8fef-a76e3987cdee",
   "metadata": {},
   "outputs": [],
   "source": [
    "run.status"
   ]
  },
  {
   "cell_type": "code",
   "execution_count": null,
   "id": "8dc7c69a-d112-409a-b437-b3a531c11041",
   "metadata": {},
   "outputs": [],
   "source": [
    "tool_call = run.required_action.submit_tool_outputs.tool_calls[0]"
   ]
  },
  {
   "cell_type": "code",
   "execution_count": null,
   "id": "2d4485b2-efce-4abc-ab5b-2146e2533c5d",
   "metadata": {},
   "outputs": [],
   "source": [
    "name = tool_call.function.name"
   ]
  },
  {
   "cell_type": "code",
   "execution_count": null,
   "id": "2cd73390-aae1-4f21-b520-4c48884ff13c",
   "metadata": {},
   "outputs": [],
   "source": [
    "import json\n",
    "arguments = json.loads(tool_call.function.arguments)"
   ]
  },
  {
   "cell_type": "code",
   "execution_count": null,
   "id": "52a291ea-5e93-4e50-81eb-39b178419629",
   "metadata": {},
   "outputs": [],
   "source": [
    "arguments['word']"
   ]
  },
  {
   "cell_type": "code",
   "execution_count": null,
   "id": "5edaa547-35e7-4b59-bf3e-c6b0c3a7dc98",
   "metadata": {},
   "outputs": [],
   "source": [
    "arguments['definition_options']"
   ]
  },
  {
   "cell_type": "code",
   "execution_count": null,
   "id": "ca048f9a-82d8-4e37-8a4b-138f029b2dd4",
   "metadata": {},
   "outputs": [],
   "source": [
    "response = word_definition_quiz(arguments['word'],arguments['definition_options'])"
   ]
  },
  {
   "cell_type": "code",
   "execution_count": null,
   "id": "4f347f97-0910-45f2-8b2b-b33d0c72fee9",
   "metadata": {},
   "outputs": [],
   "source": [
    "response"
   ]
  },
  {
   "cell_type": "code",
   "execution_count": null,
   "id": "ecacbac8-e9ce-48cc-918c-2415df575a7f",
   "metadata": {},
   "outputs": [],
   "source": [
    "tool_call"
   ]
  },
  {
   "cell_type": "code",
   "execution_count": null,
   "id": "44aa75c8-98e3-4d92-9aed-e1ffdaa5dc8b",
   "metadata": {},
   "outputs": [],
   "source": [
    "run = client.beta.threads.runs.submit_tool_outputs(thread_id=thread.id,run_id=run.id,\n",
    "    tool_outputs=[{\"tool_call_id\": tool_call.id,\n",
    "                   \"output\": json.dumps(response)\n",
    "                  }],\n",
    ")"
   ]
  },
  {
   "cell_type": "code",
   "execution_count": null,
   "id": "4e2e2a5e-2cc3-4162-ac08-6c66aae4261b",
   "metadata": {},
   "outputs": [],
   "source": [
    "run = wait_on_run(run, thread)"
   ]
  },
  {
   "cell_type": "code",
   "execution_count": null,
   "id": "cf0db194-e7b7-4913-a7a6-00da22a77f53",
   "metadata": {},
   "outputs": [],
   "source": [
    "run.status"
   ]
  },
  {
   "cell_type": "code",
   "execution_count": null,
   "id": "eb567071-50df-4e51-a94f-337c5a5ffd8c",
   "metadata": {},
   "outputs": [],
   "source": [
    "messages = client.beta.threads.messages.list(thread.id)"
   ]
  },
  {
   "cell_type": "code",
   "execution_count": null,
   "id": "9a558688-cd19-4845-a0ea-f799d9a399f8",
   "metadata": {},
   "outputs": [],
   "source": [
    "for thread_message in messages:\n",
    "    print(thread_message.content[0].text.value)\n",
    "    print('\\n')"
   ]
  },
  {
   "cell_type": "code",
   "execution_count": null,
   "id": "4c01ff7e-8f94-4ce9-9025-24e1a18b8147",
   "metadata": {},
   "outputs": [],
   "source": [
    "my_assistants = client.beta.assistants.list(\n",
    "    order=\"desc\",\n",
    "    limit=\"20\",\n",
    ")\n",
    "response = client.beta.assistants.delete(my_assistants.data[0].id)\n",
    "print(response)"
   ]
  }
 ],
 "metadata": {
  "kernelspec": {
   "display_name": "Python 3 (ipykernel)",
   "language": "python",
   "name": "python3"
  },
  "language_info": {
   "codemirror_mode": {
    "name": "ipython",
    "version": 3
   },
   "file_extension": ".py",
   "mimetype": "text/x-python",
   "name": "python",
   "nbconvert_exporter": "python",
   "pygments_lexer": "ipython3",
   "version": "3.12.4"
  }
 },
 "nbformat": 4,
 "nbformat_minor": 5
}
