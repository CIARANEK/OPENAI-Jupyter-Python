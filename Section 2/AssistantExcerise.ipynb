{
 "cells": [
  {
   "cell_type": "code",
   "execution_count": 68,
   "id": "15ce11de-f0aa-4c5d-ad07-ee76bef7397a",
   "metadata": {},
   "outputs": [],
   "source": [
    "from openai import OpenAI"
   ]
  },
  {
   "cell_type": "code",
   "execution_count": 69,
   "id": "8141a4e6-239a-46c9-a680-2e804389c25b",
   "metadata": {},
   "outputs": [],
   "source": [
    "client = OpenAI()"
   ]
  },
  {
   "cell_type": "code",
   "execution_count": 70,
   "id": "98c311fe-3847-4b02-9e35-96f35d728985",
   "metadata": {},
   "outputs": [],
   "source": [
    "assistant = client.beta.assistants.create(name='Waiter Bot',\n",
    "                                          instructions='You use Python code to split the bill so each person pays evenly.',\n",
    "                                          tools = [{'type':'code_interpreter'}],\n",
    "                                          model='gpt-3.5-turbo'\n",
    "                                         )\n",
    "\n",
    "                                          "
   ]
  },
  {
   "cell_type": "code",
   "execution_count": 71,
   "id": "e13040ef-3176-42d3-8573-120ef5604a0e",
   "metadata": {},
   "outputs": [],
   "source": [
    "thread = client.beta.threads.create()"
   ]
  },
  {
   "cell_type": "code",
   "execution_count": 77,
   "id": "3c9af4e7-d92e-43e1-b7f3-b9ef33a27629",
   "metadata": {},
   "outputs": [],
   "source": [
    "content = '''Mary ordered a burger, fries and coke. \n",
    "I ordered just a salad and coke. A burger is $10, fries are $5, a salad is $8, and cokes are $2 each. \n",
    "We want to leave an 18% tip. Please split the bill between Mary and Me, how much do we each owe'''\n"
   ]
  },
  {
   "cell_type": "code",
   "execution_count": 78,
   "id": "bf51f968-ee49-4364-a74b-fa77e2838eda",
   "metadata": {},
   "outputs": [],
   "source": [
    "message = client.beta.threads.messages.create(thread_id=thread.id,role='user',content=content)"
   ]
  },
  {
   "cell_type": "code",
   "execution_count": 79,
   "id": "49ecd1e6-55be-4df3-bf50-8c902411e696",
   "metadata": {},
   "outputs": [],
   "source": [
    "run = client.beta.threads.runs.create(thread_id=thread.id,assistant_id=assistant.id)\n",
    "                        "
   ]
  },
  {
   "cell_type": "code",
   "execution_count": 80,
   "id": "f17522f7-f41d-44a0-9fb7-ab0eb1315836",
   "metadata": {},
   "outputs": [],
   "source": [
    "def display_thread_messages(messages):\n",
    "    for thread_message in messages.data:\n",
    "        print(thread_message.content[0].text.value)\n",
    "        print('\\n')"
   ]
  },
  {
   "cell_type": "code",
   "execution_count": 81,
   "id": "732a0bea-d828-4d5e-8bcd-6d0c6f1f25ba",
   "metadata": {},
   "outputs": [
    {
     "name": "stdout",
     "output_type": "stream",
     "text": [
      "Mary ordered a burger, fries and coke. I ordered just a salad and coke. A burger is $10, fries are $5, a salad is $8, and cokes are $2 each. We want to leave an 18% tip. Please split the bill between Mary and Me, how much do we each owe\n",
      "\n",
      "\n",
      "To calculate how much Mary and you each owe, we first need to calculate the total bill including the 18% tip. Then, we can split the bill based on the items each of you ordered.\n",
      "\n",
      "Let's calculate the total bill first.\n",
      "\n",
      "\n",
      "The total bill, including an 18% tip, is $31.86. \n",
      "\n",
      "Now, let's calculate how much Mary and you each owe based on the items you ordered.\n",
      "\n",
      "\n",
      "Mary owes $20.06 and you owe $11.80.\n",
      "\n",
      "\n"
     ]
    }
   ],
   "source": [
    "display_thread_messages(messages)"
   ]
  },
  {
   "cell_type": "code",
   "execution_count": 83,
   "id": "79deb867-c23a-4d7f-9fed-c11a5973849b",
   "metadata": {},
   "outputs": [],
   "source": [
    "message = client.beta.threads.messages.create(thread_id=thread.id,\n",
    "                                                role='user',\n",
    "                                                  content='Do not split the bill evenly. Have each person only pay for what they ordered, but do not forget the tip.'\n",
    "                                             )"
   ]
  },
  {
   "cell_type": "code",
   "execution_count": 84,
   "id": "77096548-9f49-41a8-aa6c-b55ed6e13ead",
   "metadata": {},
   "outputs": [],
   "source": [
    "#EXECUTE RUN --> ASSISTANT +THREAD\n",
    "run = client.beta.threads.runs.create(thread_id=thread.id,assistant_id=assistant.id)"
   ]
  },
  {
   "cell_type": "code",
   "execution_count": 85,
   "id": "7c456b00-5846-4352-b37a-7872656bad91",
   "metadata": {},
   "outputs": [
    {
     "name": "stdout",
     "output_type": "stream",
     "text": [
      "Mary ordered a burger, fries and coke. I ordered just a salad and coke. A burger is $10, fries are $5, a salad is $8, and cokes are $2 each. We want to leave an 18% tip. Please split the bill between Mary and Me, how much do we each owe\n",
      "\n",
      "\n",
      "Mary ordered a burger, fries and coke. \n",
      "I ordered just a salad and coke. A burger is $10, fries are $5, a salad is $8, and cokes are $2 each. \n",
      "We want to leave an 18% tip. Please split the bill between Mary and Me, how much do we each owe\n",
      "\n",
      "\n",
      "To calculate how much each of you should pay, we first need to calculate the total bill amount including the 18% tip. Then we can split this total bill amount between Mary and you based on the items you both ordered.\n",
      "\n",
      "Let's do the calculation step by step:\n",
      "\n",
      "\n",
      "After including an 18% tip, Mary should pay $20.06 and you should pay $11.80.\n",
      "\n",
      "\n",
      "Do not split the bill evenly. Have each person only pay for what they ordered, but do not forget the tip.\n",
      "\n",
      "\n",
      "To calculate how much each person should pay based on what they ordered, and including the 18% tip, we will calculate the total bill for each person separately.\n",
      "\n",
      "\n"
     ]
    }
   ],
   "source": [
    "messages = client.beta.threads.messages.list(thread_id=thread.id,order='asc')\n",
    "display_thread_messages(messages)"
   ]
  },
  {
   "cell_type": "code",
   "execution_count": 86,
   "id": "6458fc43-2dcf-439e-9fd9-4bc8a6a20d70",
   "metadata": {},
   "outputs": [],
   "source": [
    "response = client.beta.assistants.delete(assistant.id)"
   ]
  },
  {
   "cell_type": "code",
   "execution_count": 87,
   "id": "e6284ec6-dbe3-4b5e-97ff-24ade58bc345",
   "metadata": {},
   "outputs": [
    {
     "data": {
      "text/plain": [
       "AssistantDeleted(id='asst_Roc06SRhl2ylXGfWj0PdvDOJ', deleted=True, object='assistant.deleted')"
      ]
     },
     "execution_count": 87,
     "metadata": {},
     "output_type": "execute_result"
    }
   ],
   "source": [
    "response"
   ]
  },
  {
   "cell_type": "code",
   "execution_count": null,
   "id": "f63e70e4-6432-45eb-b6ce-dd9f212a63b5",
   "metadata": {},
   "outputs": [],
   "source": []
  }
 ],
 "metadata": {
  "kernelspec": {
   "display_name": "Python 3 (ipykernel)",
   "language": "python",
   "name": "python3"
  },
  "language_info": {
   "codemirror_mode": {
    "name": "ipython",
    "version": 3
   },
   "file_extension": ".py",
   "mimetype": "text/x-python",
   "name": "python",
   "nbconvert_exporter": "python",
   "pygments_lexer": "ipython3",
   "version": "3.12.4"
  }
 },
 "nbformat": 4,
 "nbformat_minor": 5
}
