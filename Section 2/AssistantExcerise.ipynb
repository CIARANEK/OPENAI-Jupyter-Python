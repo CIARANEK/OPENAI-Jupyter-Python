{
 "cells": [
  {
   "cell_type": "code",
   "execution_count": null,
   "id": "15ce11de-f0aa-4c5d-ad07-ee76bef7397a",
   "metadata": {},
   "outputs": [],
   "source": []
  }
 ],
 "metadata": {
  "kernelspec": {
   "display_name": "",
   "name": ""
  },
  "language_info": {
   "name": ""
  }
 },
 "nbformat": 4,
 "nbformat_minor": 5
}
