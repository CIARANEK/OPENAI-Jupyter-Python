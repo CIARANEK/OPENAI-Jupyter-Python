{
 "cells": [
  {
   "cell_type": "code",
   "execution_count": 1,
   "id": "1b8161f5-6d66-42d9-a53b-846eb08e5f85",
   "metadata": {},
   "outputs": [],
   "source": [
    "from openai import OpenAI"
   ]
  },
  {
   "cell_type": "code",
   "execution_count": 2,
   "id": "e3bf5a77-79ea-4ff2-a75c-22ed4c5d5a3c",
   "metadata": {},
   "outputs": [],
   "source": [
    "client = OpenAI()"
   ]
  },
  {
   "cell_type": "code",
   "execution_count": 4,
   "id": "d7d81fd6-e810-402f-81e0-ad0d34f0c9de",
   "metadata": {},
   "outputs": [],
   "source": [
    "assistant = client.beta.assistants.create(name=\"Math Tutor\",\n",
    "                                            instructions='You convert math problems into Python code and then run the code to show the answer.',\n",
    "                                            tools = [{'type':'code_interpreter'}],\n",
    "                                              model = 'gpt-3.5-turbo'\n",
    "                                         )"
   ]
  },
  {
   "cell_type": "code",
   "execution_count": 5,
   "id": "bd456c91-90b6-47ae-8e2e-085b0f6d8156",
   "metadata": {},
   "outputs": [
    {
     "data": {
      "text/plain": [
       "'asst_pxFRWZ5xKAuCTDdeTBfW1D5p'"
      ]
     },
     "execution_count": 5,
     "metadata": {},
     "output_type": "execute_result"
    }
   ],
   "source": [
    "assistant.id"
   ]
  },
  {
   "cell_type": "code",
   "execution_count": 6,
   "id": "4e8622e3-dc58-490c-a57c-f2c33cbb61f8",
   "metadata": {},
   "outputs": [],
   "source": [
    "thread = client.beta.threads.create()"
   ]
  },
  {
   "cell_type": "code",
   "execution_count": 7,
   "id": "5de5fe95-ab2d-47ee-9f58-249853e634bd",
   "metadata": {},
   "outputs": [],
   "source": [
    "message = client.beta.threads.messages.create(thread_id = thread.id,\n",
    "                                             role='user',\n",
    "                                              content='What is 123456 times 456789?')"
   ]
  },
  {
   "cell_type": "code",
   "execution_count": 8,
   "id": "efa6ee49-234d-4872-bc9d-df3036f26443",
   "metadata": {},
   "outputs": [
    {
     "data": {
      "text/plain": [
       "'thread_Qs6GPM0SvPbxViwAUKraGKdr'"
      ]
     },
     "execution_count": 8,
     "metadata": {},
     "output_type": "execute_result"
    }
   ],
   "source": [
    "thread.id"
   ]
  },
  {
   "cell_type": "code",
   "execution_count": 9,
   "id": "2ef53e4a-7584-4f4e-aa76-21474598b84b",
   "metadata": {},
   "outputs": [],
   "source": [
    "run = client.beta.threads.runs.create(thread_id=thread.id,assistant_id=assistant.id)"
   ]
  },
  {
   "cell_type": "code",
   "execution_count": 10,
   "id": "d6981643-8aa9-4bfe-81ab-868b34bbfa23",
   "metadata": {},
   "outputs": [
    {
     "data": {
      "text/plain": [
       "'queued'"
      ]
     },
     "execution_count": 10,
     "metadata": {},
     "output_type": "execute_result"
    }
   ],
   "source": [
    "run.status"
   ]
  },
  {
   "cell_type": "code",
   "execution_count": 11,
   "id": "1465123c-519a-4096-a771-92fe305d20d5",
   "metadata": {},
   "outputs": [
    {
     "data": {
      "text/plain": [
       "'run_dgI6pOQ896v4fs9YatkqGnHC'"
      ]
     },
     "execution_count": 11,
     "metadata": {},
     "output_type": "execute_result"
    }
   ],
   "source": [
    "run.id"
   ]
  },
  {
   "cell_type": "code",
   "execution_count": 12,
   "id": "26c8ec74-b378-4a73-a0d1-f4a580af24d7",
   "metadata": {},
   "outputs": [],
   "source": [
    "run = client.beta.threads.runs.retrieve(thread_id=thread.id,run_id=run.id)"
   ]
  },
  {
   "cell_type": "code",
   "execution_count": 13,
   "id": "bf2509f9-087d-4caa-8dfa-3af137d9a481",
   "metadata": {},
   "outputs": [
    {
     "data": {
      "text/plain": [
       "'completed'"
      ]
     },
     "execution_count": 13,
     "metadata": {},
     "output_type": "execute_result"
    }
   ],
   "source": [
    "run.status"
   ]
  },
  {
   "cell_type": "code",
   "execution_count": 14,
   "id": "7144a125-20f0-4f29-8995-1cfa94dda77e",
   "metadata": {},
   "outputs": [],
   "source": [
    "# thread --> assistant RUN --> add new message"
   ]
  },
  {
   "cell_type": "code",
   "execution_count": 23,
   "id": "6af3be19-526a-49d4-a081-72244c5572a2",
   "metadata": {},
   "outputs": [],
   "source": [
    "messages = client.beta.threads.messages.list(thread_id=thread.id)"
   ]
  },
  {
   "cell_type": "code",
   "execution_count": 25,
   "id": "7d15243b-9b0a-4aa1-bc49-03e82cc81353",
   "metadata": {},
   "outputs": [
    {
     "data": {
      "text/plain": [
       "'123456 times 456789 is equal to 56,393,342,784.'"
      ]
     },
     "execution_count": 25,
     "metadata": {},
     "output_type": "execute_result"
    }
   ],
   "source": [
    "messages.data[0].content[0].text.value"
   ]
  },
  {
   "cell_type": "code",
   "execution_count": 29,
   "id": "70030362-b6bd-473a-b6f7-94c44610d5f0",
   "metadata": {},
   "outputs": [],
   "source": [
    "# messages.data"
   ]
  },
  {
   "cell_type": "code",
   "execution_count": 30,
   "id": "1c85c2ed-6b57-4c88-9d4f-c99dde5d8627",
   "metadata": {},
   "outputs": [
    {
     "name": "stdout",
     "output_type": "stream",
     "text": [
      "123456 times 456789 is equal to 56,393,342,784.\n",
      "\n",
      "\n",
      "What is 123456 times 456789?\n",
      "\n",
      "\n"
     ]
    }
   ],
   "source": [
    "for thread_message in messages.data:\n",
    "    print(thread_message.content[0].text.value)\n",
    "    print('\\n')"
   ]
  },
  {
   "cell_type": "code",
   "execution_count": 31,
   "id": "dac73e19-9d23-47e1-9689-802d39671b9f",
   "metadata": {},
   "outputs": [
    {
     "data": {
      "text/plain": [
       "'run_dgI6pOQ896v4fs9YatkqGnHC'"
      ]
     },
     "execution_count": 31,
     "metadata": {},
     "output_type": "execute_result"
    }
   ],
   "source": [
    "run.id"
   ]
  },
  {
   "cell_type": "code",
   "execution_count": 32,
   "id": "b72e3b33-778d-4bb9-9d71-005fa2f0f649",
   "metadata": {},
   "outputs": [],
   "source": [
    "run_steps = client.beta.threads.runs.steps.list(thread_id=thread.id,run_id=run.id)"
   ]
  },
  {
   "cell_type": "code",
   "execution_count": 34,
   "id": "1a3888f8-3d4a-4ba9-90d4-16f65965cdd9",
   "metadata": {},
   "outputs": [
    {
     "data": {
      "text/plain": [
       "SyncCursorPage[RunStep](data=[RunStep(id='step_b3y5lOmGrMWTvgDbs2fJmWjn', assistant_id='asst_pxFRWZ5xKAuCTDdeTBfW1D5p', cancelled_at=None, completed_at=1717844283, created_at=1717844283, expired_at=None, failed_at=None, last_error=None, metadata=None, object='thread.run.step', run_id='run_dgI6pOQ896v4fs9YatkqGnHC', status='completed', step_details=MessageCreationStepDetails(message_creation=MessageCreation(message_id='msg_Bfd9W8H1sq3qhMRzIeQkzMly'), type='message_creation'), thread_id='thread_Qs6GPM0SvPbxViwAUKraGKdr', type='message_creation', usage=Usage(completion_tokens=20, prompt_tokens=166, total_tokens=186), expires_at=None), RunStep(id='step_32zqyQhBNpUnkCByROkPxIuA', assistant_id='asst_pxFRWZ5xKAuCTDdeTBfW1D5p', cancelled_at=None, completed_at=1717844283, created_at=1717844281, expired_at=None, failed_at=None, last_error=None, metadata=None, object='thread.run.step', run_id='run_dgI6pOQ896v4fs9YatkqGnHC', status='completed', step_details=ToolCallsStepDetails(tool_calls=[CodeInterpreterToolCall(id='call_uFjiL3oBxg55oizOAO5cNwJQ', code_interpreter=CodeInterpreter(input='# multiply 123456 by 456789\\nresult = 123456 * 456789\\nresult', outputs=[]), type='code_interpreter')], type='tool_calls'), thread_id='thread_Qs6GPM0SvPbxViwAUKraGKdr', type='tool_calls', usage=Usage(completion_tokens=27, prompt_tokens=127, total_tokens=154), expires_at=None)], object='list', first_id='step_b3y5lOmGrMWTvgDbs2fJmWjn', last_id='step_32zqyQhBNpUnkCByROkPxIuA', has_more=False)"
      ]
     },
     "execution_count": 34,
     "metadata": {},
     "output_type": "execute_result"
    }
   ],
   "source": [
    "# run_steps"
   ]
  },
  {
   "cell_type": "code",
   "execution_count": 35,
   "id": "26ce6425-abcd-4c90-828a-71de35a43537",
   "metadata": {},
   "outputs": [
    {
     "name": "stdout",
     "output_type": "stream",
     "text": [
      "MessageCreationStepDetails(message_creation=MessageCreation(message_id='msg_Bfd9W8H1sq3qhMRzIeQkzMly'), type='message_creation')\n",
      "\n",
      "\n",
      "ToolCallsStepDetails(tool_calls=[CodeInterpreterToolCall(id='call_uFjiL3oBxg55oizOAO5cNwJQ', code_interpreter=CodeInterpreter(input='# multiply 123456 by 456789\\nresult = 123456 * 456789\\nresult', outputs=[]), type='code_interpreter')], type='tool_calls')\n",
      "\n",
      "\n"
     ]
    }
   ],
   "source": [
    "for step in run_steps:\n",
    "    print(step.step_details)\n",
    "    print('\\n')"
   ]
  },
  {
   "cell_type": "code",
   "execution_count": 36,
   "id": "56935734-2ffc-4f91-8a45-dc46f70c171b",
   "metadata": {},
   "outputs": [],
   "source": [
    "my_assistants = client.beta.assistants.list(order='desc',limit='20')"
   ]
  },
  {
   "cell_type": "code",
   "execution_count": 38,
   "id": "15b737e1-43bc-4c40-a10c-f37a0bf0a23e",
   "metadata": {},
   "outputs": [
    {
     "data": {
      "text/plain": [
       "[Assistant(id='asst_pxFRWZ5xKAuCTDdeTBfW1D5p', created_at=1717843898, description=None, instructions='You convert math problems into Python code and then run the code to show the answer.', metadata={}, model='gpt-3.5-turbo', name='Math Tutor', object='assistant', tools=[CodeInterpreterTool(type='code_interpreter')], response_format='auto', temperature=1.0, tool_resources=ToolResources(code_interpreter=ToolResourcesCodeInterpreter(file_ids=[]), file_search=None), top_p=1.0)]"
      ]
     },
     "execution_count": 38,
     "metadata": {},
     "output_type": "execute_result"
    }
   ],
   "source": [
    "my_assistants.data"
   ]
  },
  {
   "cell_type": "code",
   "execution_count": 41,
   "id": "ffb30c95-e7ca-430d-86bf-fefb85157167",
   "metadata": {},
   "outputs": [],
   "source": [
    "response = client.beta.assistants.delete(assistant.id)"
   ]
  },
  {
   "cell_type": "raw",
   "id": "39224c8f-f42f-4990-8bcc-464bd8e07c4c",
   "metadata": {},
   "source": [
    "response"
   ]
  },
  {
   "cell_type": "code",
   "execution_count": null,
   "id": "364b3b9b-08a0-4fbc-97f5-4d3a99693982",
   "metadata": {},
   "outputs": [],
   "source": []
  }
 ],
 "metadata": {
  "kernelspec": {
   "display_name": "Python 3 (ipykernel)",
   "language": "python",
   "name": "python3"
  },
  "language_info": {
   "codemirror_mode": {
    "name": "ipython",
    "version": 3
   },
   "file_extension": ".py",
   "mimetype": "text/x-python",
   "name": "python",
   "nbconvert_exporter": "python",
   "pygments_lexer": "ipython3",
   "version": "3.12.4"
  }
 },
 "nbformat": 4,
 "nbformat_minor": 5
}
