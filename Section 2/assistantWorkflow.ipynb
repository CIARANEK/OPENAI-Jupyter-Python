{
 "cells": [
  {
   "cell_type": "code",
   "execution_count": 1,
   "id": "47f53eda-de09-41eb-896b-ec44c322bca1",
   "metadata": {},
   "outputs": [],
   "source": [
    "from openai import OpenAI"
   ]
  },
  {
   "cell_type": "code",
   "execution_count": 2,
   "id": "c5efa1cf-1576-4754-a504-9457e50b966f",
   "metadata": {},
   "outputs": [],
   "source": [
    "client = OpenAI()"
   ]
  },
  {
   "cell_type": "code",
   "execution_count": 3,
   "id": "08169543-7523-49a6-9141-2c652a31c42c",
   "metadata": {},
   "outputs": [],
   "source": [
    "# STEP 1: Creating the assistant"
   ]
  },
  {
   "cell_type": "code",
   "execution_count": 5,
   "id": "4cc142a0-0514-415d-9e5d-ab1d1f3d60e4",
   "metadata": {},
   "outputs": [],
   "source": [
    "assistant = client.beta.assistants.create(name='Mortgage Bot',\n",
    "                                          instructions='You use Python code to help answer questions about mortgage and interest payments.',\n",
    "                                          tools = [{'type':'code_interpreter'}],\n",
    "                                          model='gpt-3.5-turbo'\n",
    "                                         )\n",
    "\n",
    "                                          "
   ]
  },
  {
   "cell_type": "code",
   "execution_count": 6,
   "id": "4f8aca7b-a2d2-4fa1-bad5-d0056da5b20c",
   "metadata": {},
   "outputs": [],
   "source": [
    "#STEP 2: Thread Creation"
   ]
  },
  {
   "cell_type": "code",
   "execution_count": 7,
   "id": "938ea183-3ddc-435a-9948-fdcb83b72be7",
   "metadata": {},
   "outputs": [],
   "source": [
    "thread = client.beta.threads.create()"
   ]
  },
  {
   "cell_type": "code",
   "execution_count": 8,
   "id": "3b157688-6140-4e5c-bdaf-cabc4b29cabd",
   "metadata": {},
   "outputs": [],
   "source": [
    "#STEP 3: Add message to thread"
   ]
  },
  {
   "cell_type": "code",
   "execution_count": 9,
   "id": "fbbb7942-267e-45f8-8081-07bfca254361",
   "metadata": {},
   "outputs": [],
   "source": [
    "message = client.beta.threads.messages.create(thread_id=thread.id,\n",
    "                                              role='user',\n",
    "                                              content='I want to buy a house that costs £2.1 million on a 30 year fixed loan at 7.8% interest. What will my monthly payments be?'\n",
    "                                             )"
   ]
  },
  {
   "cell_type": "code",
   "execution_count": 10,
   "id": "97099cfe-b3a7-46ba-b513-34670b6a9bd8",
   "metadata": {},
   "outputs": [],
   "source": [
    "#STEP 4: Run thread w/ Assistant"
   ]
  },
  {
   "cell_type": "code",
   "execution_count": 15,
   "id": "84b4643a-ead0-4916-bc20-d4a74ad4b1d7",
   "metadata": {},
   "outputs": [],
   "source": [
    "run = client.beta.threads.runs.create(thread_id=thread.id,\n",
    "                               assistant_id=assistant.id,\n",
    "                               instructions='Give a detailed analysis and considerations regarding the mortgage payments.'\n",
    "                              )\n",
    "                        "
   ]
  },
  {
   "cell_type": "code",
   "execution_count": 16,
   "id": "e30c8305-c0e5-4958-aeee-48549a8b3e3f",
   "metadata": {},
   "outputs": [
    {
     "name": "stdout",
     "output_type": "stream",
     "text": [
      "queued\n",
      "in_progress\n"
     ]
    }
   ],
   "source": [
    "import time\n",
    "\n",
    "while run.status != 'completed':\n",
    "    print(run.status)\n",
    "    run = client.beta.threads.runs.retrieve(thread_id = thread.id, run_id=run.id)\n",
    "    time.sleep(5)"
   ]
  },
  {
   "cell_type": "code",
   "execution_count": 17,
   "id": "d044615e-db79-4b7a-b9ba-4a53381e9745",
   "metadata": {},
   "outputs": [],
   "source": [
    "#STEP 5: Display response"
   ]
  },
  {
   "cell_type": "code",
   "execution_count": 27,
   "id": "a92702e8-c5cf-4b7a-8757-c59ac3a642db",
   "metadata": {},
   "outputs": [],
   "source": [
    "messages = client.beta.threads.messages.list(thread_id=thread.id,\n",
    "                                            order='asc',after=message.id)"
   ]
  },
  {
   "cell_type": "code",
   "execution_count": 28,
   "id": "e1ea0928-2cf1-49de-8fe6-fad680f50f38",
   "metadata": {},
   "outputs": [],
   "source": [
    "# messages"
   ]
  },
  {
   "cell_type": "code",
   "execution_count": 29,
   "id": "7c4709d7-2621-484c-818a-9cc438bc4b8c",
   "metadata": {},
   "outputs": [],
   "source": [
    "def display_thread_messages(messages):\n",
    "    for thread_message in messages.data:\n",
    "        print(thread_message.content[0].text.value)\n",
    "        print('\\n')"
   ]
  },
  {
   "cell_type": "code",
   "execution_count": 30,
   "id": "9fbb3dab-8710-402b-affa-536ac5ea48ed",
   "metadata": {},
   "outputs": [
    {
     "name": "stdout",
     "output_type": "stream",
     "text": [
      "To calculate the monthly mortgage payments for a fixed-rate loan, we can use the formula for the monthly payment of a fixed-rate mortgage:\n",
      "\n",
      "\\[ M = P \\times \\frac{r(1+r)^n}{(1+r)^n-1} \\]\n",
      "\n",
      "Where:\n",
      "- \\(M\\) = monthly mortgage payment\n",
      "- \\(P\\) = principal loan amount (loan amount)\n",
      "- \\(r\\) = monthly interest rate (annual interest rate divided by 12 months)\n",
      "- \\(n\\) = total number of payments (loan term in years multiplied by 12 months)\n",
      "\n",
      "We can plug in the given values and calculate the monthly mortgage payments. Let's proceed with the calculation.\n",
      "\n",
      "\n",
      "The monthly mortgage payment for a £2.1 million house on a 30-year fixed loan at 7.8% interest rate would be approximately £15,117.28.\n",
      "\n",
      "\n",
      "This monthly payment includes both the principal and interest components of the mortgage. Over the 30-year term, you would make a total of 360 monthly payments. \n",
      "\n",
      "It's important to note that this calculation does not include other potential costs associated with homeownership, such as property taxes, homeowners insurance, and possible HOA fees. These additional costs would increase the total amount you need to budget for each month as a homeowner.\n",
      "\n",
      "\n"
     ]
    }
   ],
   "source": [
    "display_thread_messages(messages)"
   ]
  },
  {
   "cell_type": "code",
   "execution_count": 34,
   "id": "4d576a50-1852-43a6-ac34-8948533bf691",
   "metadata": {},
   "outputs": [],
   "source": [
    "def wait_on_run(run,thread):\n",
    "    while run.status == 'queued' or run.status == 'in_progress':\n",
    "        run = client.beta.threads.runs.retrieve(thread_id=thread.id,run_id=run.id)\n",
    "        time.sleep(0.5)\n",
    "        print(run.status)\n",
    "    return run"
   ]
  },
  {
   "cell_type": "code",
   "execution_count": 36,
   "id": "761d26f3-8e9b-4af5-952f-88dcd08024de",
   "metadata": {},
   "outputs": [],
   "source": [
    "# client.beta.threads.messages.list(thread_id=thread.id)"
   ]
  },
  {
   "cell_type": "code",
   "execution_count": 37,
   "id": "2facbe78-62a6-4753-8434-a19158a92b5e",
   "metadata": {},
   "outputs": [],
   "source": [
    "message = client.beta.threads.messages.create(thread_id=thread.id,\n",
    "                                                role='user',\n",
    "                                                  content='What is i put a down payments of £200k on the house, how would this change my monthly payments?')"
   ]
  },
  {
   "cell_type": "code",
   "execution_count": 38,
   "id": "03e820e9-d48f-4634-ab61-515c49ac389c",
   "metadata": {},
   "outputs": [
    {
     "name": "stdout",
     "output_type": "stream",
     "text": [
      "in_progress\n",
      "in_progress\n",
      "in_progress\n",
      "in_progress\n",
      "in_progress\n",
      "in_progress\n",
      "completed\n",
      "If you make a down payment on the house, the principal loan amount would be reduced by the amount of the down payment. The new principal loan amount would be £2,100,000 - £200,000 = £1,900,000.\n",
      "\n",
      "We can now recalculate the monthly mortgage payment using the reduced principal loan amount. Let's calculate the new monthly payment.\n",
      "\n",
      "\n",
      "With a down payment of £200,000 on the house, the new monthly mortgage payment would be approximately £13,677.54. \n",
      "\n",
      "This down payment has reduced the total amount borrowed, which has lowered the monthly payment amount.\n",
      "\n",
      "\n"
     ]
    }
   ],
   "source": [
    "#EXECUTE RUN --> ASSISTANT +THREAD\n",
    "run = client.beta.threads.runs.create(thread_id=thread.id,assistant_id=assistant.id)\n",
    "\n",
    "#WAIT UNTIL RUN IS COMPLETED\n",
    "wait_on_run(run,thread)\n",
    "\n",
    "messages = client.beta.threads.messages.list(thread_id=thread.id,\n",
    "                                             order='asc',\n",
    "                                             after=message.id)\n",
    "\n",
    "display_thread_messages(messages)"
   ]
  },
  {
   "cell_type": "code",
   "execution_count": 39,
   "id": "e69830b4-496e-4d44-a623-aa9fdcfe753a",
   "metadata": {},
   "outputs": [],
   "source": [
    "run_steps = client.beta.threads.runs.steps.list(thread_id=thread.id,run_id=run.id)"
   ]
  },
  {
   "cell_type": "code",
   "execution_count": 40,
   "id": "6d81d41d-58be-4091-8736-e4b5ad3f5d16",
   "metadata": {},
   "outputs": [
    {
     "name": "stdout",
     "output_type": "stream",
     "text": [
      "MessageCreationStepDetails(message_creation=MessageCreation(message_id='msg_lMcsssj9OQBCW53KLBwweRAM'), type='message_creation')\n",
      "ToolCallsStepDetails(tool_calls=[CodeInterpreterToolCall(id='call_Fc60Jj8idwXymT9clgyZMc9b', code_interpreter=CodeInterpreter(input='# New principal loan amount after down payment\\nnew_principal = principal - 200000\\n\\n# Calculating monthly mortgage payment with the down payment\\nnew_monthly_payment = new_principal * (monthly_interest_rate * (1 + monthly_interest_rate) ** total_payments) / ((1 + monthly_interest_rate) ** total_payments - 1)\\n\\nnew_monthly_payment', outputs=[]), type='code_interpreter')], type='tool_calls')\n",
      "MessageCreationStepDetails(message_creation=MessageCreation(message_id='msg_ZqF2Mq3GYjCDzraANShv7lzk'), type='message_creation')\n"
     ]
    }
   ],
   "source": [
    "# for step in run_steps:\n",
    "   # print(step.step_details)"
   ]
  },
  {
   "cell_type": "code",
   "execution_count": 41,
   "id": "62369431-d8f9-4bd4-9a07-c99c656eca46",
   "metadata": {},
   "outputs": [],
   "source": [
    "response = client.beta.assistants.delete(assistant.id)"
   ]
  },
  {
   "cell_type": "code",
   "execution_count": 42,
   "id": "4b8e6496-595e-42e1-8684-c28c53e0eb77",
   "metadata": {},
   "outputs": [
    {
     "data": {
      "text/plain": [
       "AssistantDeleted(id='asst_J8tybTeH5IKZ86bQvtVp1RBn', deleted=True, object='assistant.deleted')"
      ]
     },
     "execution_count": 42,
     "metadata": {},
     "output_type": "execute_result"
    }
   ],
   "source": [
    "response"
   ]
  },
  {
   "cell_type": "code",
   "execution_count": null,
   "id": "99b33a66-bf73-40c8-93bc-cb4cd6dbb888",
   "metadata": {},
   "outputs": [],
   "source": []
  }
 ],
 "metadata": {
  "kernelspec": {
   "display_name": "Python 3 (ipykernel)",
   "language": "python",
   "name": "python3"
  },
  "language_info": {
   "codemirror_mode": {
    "name": "ipython",
    "version": 3
   },
   "file_extension": ".py",
   "mimetype": "text/x-python",
   "name": "python",
   "nbconvert_exporter": "python",
   "pygments_lexer": "ipython3",
   "version": "3.12.4"
  }
 },
 "nbformat": 4,
 "nbformat_minor": 5
}
