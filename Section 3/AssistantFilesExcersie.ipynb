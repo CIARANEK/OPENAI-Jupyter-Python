{
 "cells": [
  {
   "cell_type": "code",
   "execution_count": null,
   "id": "3011cf32-b7ee-487c-b2b6-d4417155fa81",
   "metadata": {},
   "outputs": [],
   "source": [
    "from openai import OpenAI"
   ]
  },
  {
   "cell_type": "code",
   "execution_count": null,
   "id": "a405b3e0-a246-4edd-87d7-5b1ba65c3551",
   "metadata": {},
   "outputs": [],
   "source": [
    "client = OpenAI()"
   ]
  },
  {
   "cell_type": "code",
   "execution_count": null,
   "id": "a2e545bc-9a47-44bb-9ef1-9196d8c90bbf",
   "metadata": {},
   "outputs": [],
   "source": [
    "file = client.files.create(file=open(\"exercise_sales_data.csv\", \"rb\"),purpose='assistants')"
   ]
  },
  {
   "cell_type": "code",
   "execution_count": null,
   "id": "a7f744bf-7da4-4349-87c0-75668384b6e5",
   "metadata": {},
   "outputs": [],
   "source": [
    "file.id"
   ]
  },
  {
   "cell_type": "code",
   "execution_count": null,
   "id": "a9e445e1-d431-48e7-8f23-7a67779382af",
   "metadata": {},
   "outputs": [],
   "source": [
    "assistant = client.beta.assistants.create(\n",
    "    name='Stock Visualizer',\n",
    "    instructions=\"You use code and files to help visualize stock data.\",\n",
    "    model=\"gpt-3.5-turbo\",\n",
    "    tools=[{\"type\": \"retrieval\"},{'type':'code_interpreter'}])"
   ]
  },
  {
   "cell_type": "code",
   "execution_count": null,
   "id": "f1a3dada-229c-4cb1-a631-d9dc64860792",
   "metadata": {},
   "outputs": [],
   "source": [
    "thread = client.beta.threads.create()"
   ]
  },
  {
   "cell_type": "code",
   "execution_count": null,
   "id": "1d1e9413-4a16-49c3-86ae-421052cd6c74",
   "metadata": {},
   "outputs": [],
   "source": [
    "message = client.beta.threads.messages.create(\n",
    "    thread_id=thread.id,\n",
    "    role=\"user\",\n",
    "    content=\"Create a bar plot of the total sum of Purcase Price expenditure per year.\",\n",
    "    file_ids=[file.id],\n",
    ")"
   ]
  },
  {
   "cell_type": "code",
   "execution_count": null,
   "id": "7e161067-85d4-4176-ae68-76573b13de93",
   "metadata": {},
   "outputs": [],
   "source": [
    "run = client.beta.threads.runs.create(thread_id=thread.id,assistant_id=assistant.id)"
   ]
  },
  {
   "cell_type": "code",
   "execution_count": null,
   "id": "21d1dc91-3a3d-4559-8180-5b66e77e69ad",
   "metadata": {},
   "outputs": [],
   "source": [
    "messages = client.beta.threads.messages.list(thread_id=thread.id, order=\"asc\",)"
   ]
  },
  {
   "cell_type": "code",
   "execution_count": null,
   "id": "b36b9b16-9822-42fb-9518-a6e9ba87cb76",
   "metadata": {},
   "outputs": [],
   "source": [
    "for thread_message in messages:\n",
    "    print(thread_message)\n",
    "    print('\\n')"
   ]
  },
  {
   "cell_type": "code",
   "execution_count": null,
   "id": "5893b5ed-0274-4d12-b54e-228bdbd39e88",
   "metadata": {},
   "outputs": [],
   "source": [
    "thread_message"
   ]
  },
  {
   "cell_type": "code",
   "execution_count": null,
   "id": "b754cb4c-952d-4df0-9f6d-b2b2231bae92",
   "metadata": {},
   "outputs": [],
   "source": [
    "ead_message.content[0].image_file.file_id"
   ]
  },
  {
   "cell_type": "code",
   "execution_count": null,
   "id": "1c36651a-b6d5-4148-9bc3-efe07faca92b",
   "metadata": {},
   "outputs": [],
   "source": [
    "image_id = thread_message.content[0].image_file.file_id\n",
    "image = client.files.content(image_id)"
   ]
  },
  {
   "cell_type": "code",
   "execution_count": null,
   "id": "307c1ab3-f024-42ff-a520-158ff21454ad",
   "metadata": {},
   "outputs": [],
   "source": [
    "with open('solution.png', 'wb') as file:\n",
    "    file.write(image.content)"
   ]
  },
  {
   "cell_type": "code",
   "execution_count": null,
   "id": "9d1691bc-56f6-4457-9885-06392d2cc49f",
   "metadata": {},
   "outputs": [],
   "source": [
    "from IPython.display import Image\n",
    "\n",
    "Image(filename='solution.png')"
   ]
  },
  {
   "cell_type": "code",
   "execution_count": null,
   "id": "0fa8593c-dc5e-4385-be6d-cd879467cdde",
   "metadata": {},
   "outputs": [],
   "source": [
    "my_assistants = client.beta.assistants.list(order=\"desc\",limit=\"20\",)"
   ]
  },
  {
   "cell_type": "code",
   "execution_count": null,
   "id": "1ff0e735-c3a3-4e20-a878-9d979facdd17",
   "metadata": {},
   "outputs": [],
   "source": [
    "response = client.beta.assistants.delete(my_assistants.data[0].id)"
   ]
  },
  {
   "cell_type": "code",
   "execution_count": null,
   "id": "17995773-7efe-4816-b5e1-6b3aec9955e0",
   "metadata": {},
   "outputs": [],
   "source": [
    "response"
   ]
  },
  {
   "cell_type": "code",
   "execution_count": null,
   "id": "c157627c-e2cd-49b7-8a50-40ad9b59f0f6",
   "metadata": {},
   "outputs": [],
   "source": [
    "for file in client.files.list():\n",
    "    client.files.delete(file.id)"
   ]
  },
  {
   "cell_type": "code",
   "execution_count": null,
   "id": "f3044349-f475-4b45-8b46-d56ac0491e7b",
   "metadata": {},
   "outputs": [],
   "source": [
    "client.files.list()"
   ]
  }
 ],
 "metadata": {
  "kernelspec": {
   "display_name": "Python 3 (ipykernel)",
   "language": "python",
   "name": "python3"
  },
  "language_info": {
   "codemirror_mode": {
    "name": "ipython",
    "version": 3
   },
   "file_extension": ".py",
   "mimetype": "text/x-python",
   "name": "python",
   "nbconvert_exporter": "python",
   "pygments_lexer": "ipython3",
   "version": "3.12.4"
  }
 },
 "nbformat": 4,
 "nbformat_minor": 5
}
