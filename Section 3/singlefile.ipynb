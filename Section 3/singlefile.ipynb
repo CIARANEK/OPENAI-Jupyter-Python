{
 "cells": [
  {
   "cell_type": "code",
   "execution_count": 1,
   "id": "f0232e0b-0f89-4a3b-ab49-94d5d693400c",
   "metadata": {},
   "outputs": [],
   "source": [
    "from openai import OpenAI"
   ]
  },
  {
   "cell_type": "code",
   "execution_count": 2,
   "id": "eb1172df-83d0-4ee6-8ecd-a0a346f22715",
   "metadata": {},
   "outputs": [],
   "source": [
    "client = OpenAI()"
   ]
  },
  {
   "cell_type": "code",
   "execution_count": 3,
   "id": "61f1297d-32c8-4098-a597-98fe58dc8780",
   "metadata": {},
   "outputs": [],
   "source": [
    "file = client.files.create(file=open(\"Wonka Chocolate Facility Rules.pdf\", \"rb\"), purpose=\"assistants\")"
   ]
  },
  {
   "cell_type": "code",
   "execution_count": 4,
   "id": "fd1c19cc-ca09-4e10-be01-c40257958b97",
   "metadata": {},
   "outputs": [
    {
     "data": {
      "text/plain": [
       "'file-Yw1aTCz9dt8XF3i7S9ttXvPh'"
      ]
     },
     "execution_count": 4,
     "metadata": {},
     "output_type": "execute_result"
    }
   ],
   "source": [
    "file.id"
   ]
  },
  {
   "cell_type": "code",
   "execution_count": 5,
   "id": "84e2bc62-b31e-4b1e-883e-d2be5ea27e0b",
   "metadata": {},
   "outputs": [
    {
     "data": {
      "text/plain": [
       "FileObject(id='file-Yw1aTCz9dt8XF3i7S9ttXvPh', bytes=38968, created_at=1717954090, filename='Wonka Chocolate Facility Rules.pdf', object='file', purpose='assistants', status='processed', status_details=None)"
      ]
     },
     "execution_count": 5,
     "metadata": {},
     "output_type": "execute_result"
    }
   ],
   "source": [
    "file"
   ]
  },
  {
   "cell_type": "code",
   "execution_count": 6,
   "id": "19239b98-6731-4f24-a73a-47cc7c45ec11",
   "metadata": {},
   "outputs": [],
   "source": [
    "assistant = client.beta.assistants.create(name='Rules Explainer',\n",
    "                                         instructions='You answer information about rules based on your knowledge base of PDF files.',\n",
    "                                         model='gpt-3.5-turbo',\n",
    "                                         tools=[{\"type\": \"file_search\"}],\n",
    "                                         )\n",
    "                                         "
   ]
  },
  {
   "cell_type": "code",
   "execution_count": 7,
   "id": "aff7d733-12fe-483f-898b-22e3d5b80dc3",
   "metadata": {},
   "outputs": [],
   "source": [
    "thread = client.beta.threads.create(\n",
    "  messages=[\n",
    "    {\n",
    "      \"role\": \"user\",\n",
    "      \"content\": \"Can I bring my cat to the Wonka Chocolate Facility?\",\n",
    "      # Attach the new file to the message.\n",
    "      \"attachments\": [\n",
    "        { \"file_id\": file.id, \"tools\": [{\"type\": \"file_search\"}] }\n",
    "      ],\n",
    "    }\n",
    "  ]\n",
    ")"
   ]
  },
  {
   "cell_type": "code",
   "execution_count": 8,
   "id": "b119cfa7-d331-4ca3-8dbe-7ae44d54ed80",
   "metadata": {},
   "outputs": [],
   "source": [
    "run = client.beta.threads.runs.create(thread_id=thread.id,\n",
    "                                        assistant_id=assistant.id)"
   ]
  },
  {
   "cell_type": "code",
   "execution_count": 9,
   "id": "484f46b2-ad18-48eb-ba62-4e4a85841e32",
   "metadata": {},
   "outputs": [],
   "source": [
    "run = client.beta.threads.runs.retrieve(thread_id=thread.id,run_id=run.id)"
   ]
  },
  {
   "cell_type": "code",
   "execution_count": 10,
   "id": "33dde068-49ea-483a-8989-2ecfceaf6402",
   "metadata": {},
   "outputs": [
    {
     "data": {
      "text/plain": [
       "'in_progress'"
      ]
     },
     "execution_count": 10,
     "metadata": {},
     "output_type": "execute_result"
    }
   ],
   "source": [
    "run.status"
   ]
  },
  {
   "cell_type": "code",
   "execution_count": 11,
   "id": "60c1ba03-0570-489d-9124-0e67363da587",
   "metadata": {},
   "outputs": [],
   "source": [
    "messages = client.beta.threads.messages.list(thread_id=thread.id,order='asc')"
   ]
  },
  {
   "cell_type": "code",
   "execution_count": 12,
   "id": "e0fb8776-f4f2-46be-b9ac-ecf96a172040",
   "metadata": {},
   "outputs": [],
   "source": [
    "def display_thread_messages(messages):\n",
    "    for thread_message in messages.data:\n",
    "        print(thread_message.content[0].text.value)\n",
    "        print('\\n')"
   ]
  },
  {
   "cell_type": "code",
   "execution_count": 13,
   "id": "c856a34f-b552-4cae-8b7c-cae137872a97",
   "metadata": {},
   "outputs": [
    {
     "name": "stdout",
     "output_type": "stream",
     "text": [
      "Can I bring my cat to the Wonka Chocolate Facility?\n",
      "\n",
      "\n",
      "Unfortunately, only guide dogs are allowed on the premises of the Wonka Chocolate Facility. Guide dogs must be properly trained, housebroken, non-disruptive, and under the control of their owners at all times. Additionally, guide dogs must wear a harness or vest clearly identifying them as guide dogs, and their owners are responsible for cleaning up after them. Other pets, including cats, are not permitted on the premises【4:1†source】.\n",
      "\n",
      "\n"
     ]
    }
   ],
   "source": [
    "display_thread_messages(messages)"
   ]
  },
  {
   "cell_type": "code",
   "execution_count": 14,
   "id": "fbe7668d-9b22-44dc-b0f6-ade4c492a990",
   "metadata": {},
   "outputs": [
    {
     "name": "stdout",
     "output_type": "stream",
     "text": [
      "AssistantDeleted(id='asst_0TxNJ3Rf57t1FNpjzHp9a0xi', deleted=True, object='assistant.deleted')\n"
     ]
    }
   ],
   "source": [
    "my_assistants = client.beta.assistants.list(\n",
    "    order=\"desc\",\n",
    "    limit=\"20\",\n",
    ")\n",
    "response = client.beta.assistants.delete(my_assistants.data[0].id)\n",
    "print(response)"
   ]
  },
  {
   "cell_type": "code",
   "execution_count": 15,
   "id": "7bbb4bab-15f4-4f91-9462-f5d5f2f75a9f",
   "metadata": {},
   "outputs": [],
   "source": [
    "for file in client.files.list():\n",
    "    client.files.delete(file.id)"
   ]
  },
  {
   "cell_type": "code",
   "execution_count": 16,
   "id": "66d0ef14-c192-4d2f-9c64-156d655a05ba",
   "metadata": {},
   "outputs": [
    {
     "data": {
      "text/plain": [
       "SyncPage[FileObject](data=[], object='list', has_more=False)"
      ]
     },
     "execution_count": 16,
     "metadata": {},
     "output_type": "execute_result"
    }
   ],
   "source": [
    "client.files.list()"
   ]
  },
  {
   "cell_type": "code",
   "execution_count": null,
   "id": "fc251645-f221-4b46-92af-381cfb397e57",
   "metadata": {},
   "outputs": [],
   "source": []
  }
 ],
 "metadata": {
  "kernelspec": {
   "display_name": "Python 3 (ipykernel)",
   "language": "python",
   "name": "python3"
  },
  "language_info": {
   "codemirror_mode": {
    "name": "ipython",
    "version": 3
   },
   "file_extension": ".py",
   "mimetype": "text/x-python",
   "name": "python",
   "nbconvert_exporter": "python",
   "pygments_lexer": "ipython3",
   "version": "3.12.4"
  }
 },
 "nbformat": 4,
 "nbformat_minor": 5
}
