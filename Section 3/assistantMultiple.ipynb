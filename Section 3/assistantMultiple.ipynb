{
 "cells": [
  {
   "cell_type": "code",
   "execution_count": null,
   "id": "d62366fc-da23-4e7f-a962-d28192edd2f6",
   "metadata": {},
   "outputs": [],
   "source": [
    "from openai import OpenAI"
   ]
  },
  {
   "cell_type": "code",
   "execution_count": null,
   "id": "1adb8b40-8ee6-4edc-a880-5515f236c1b5",
   "metadata": {},
   "outputs": [],
   "source": [
    "client = OpenAI()"
   ]
  },
  {
   "cell_type": "code",
   "execution_count": null,
   "id": "c8be758e-b3c9-4ffb-ac17-4202cf75772a",
   "metadata": {},
   "outputs": [],
   "source": [
    "import os"
   ]
  },
  {
   "cell_type": "code",
   "execution_count": null,
   "id": "b1413fdd-2c31-4de9-90ee-8dffdb8ca9c7",
   "metadata": {},
   "outputs": [],
   "source": [
    "os.listdir('MultipleFiles/')"
   ]
  },
  {
   "cell_type": "code",
   "execution_count": null,
   "id": "1606d68f-3495-4ebe-9543-563747a7f3c7",
   "metadata": {},
   "outputs": [],
   "source": [
    "files_to_upload = ['ACME Advertising Policy.pdf',\n",
    " 'ACME_Dog_Food_Ingredients.pdf',\n",
    " 'Corporate Travel Policy.pdf']"
   ]
  },
  {
   "cell_type": "code",
   "execution_count": null,
   "id": "b6e41df5-7812-478f-9d8b-731554317bba",
   "metadata": {},
   "outputs": [],
   "source": [
    "def upload_assistant_file(filename):\n",
    "    file = client.files.create(file=open('MultipleFiles/'+filename,'rb'),purpose='assistants')\n",
    "    print(file.id)"
   ]
  },
  {
   "cell_type": "code",
   "execution_count": null,
   "id": "e75824d3-470b-44ae-b418-1aebb469e36e",
   "metadata": {},
   "outputs": [],
   "source": [
    "for file in files_to_upload:\n",
    "    upload_assistant_file(file)"
   ]
  },
  {
   "cell_type": "code",
   "execution_count": null,
   "id": "fc643ecc-14b3-4c01-9cae-a3bdb6cfe7d0",
   "metadata": {},
   "outputs": [],
   "source": [
    "for file in client.files.list():\n",
    "    print(file.filename)\n",
    "    print(file.id)\n",
    "    print('\\n')"
   ]
  },
  {
   "cell_type": "code",
   "execution_count": null,
   "id": "a3bb45a8-1513-43ae-8625-d79430f7854f",
   "metadata": {},
   "outputs": [],
   "source": [
    "assistant = client.beta.assistants.create(instructions='You answer information about the company based on the PDF documents available in your knowledge base.',\n",
    "                                          model='gpt-3.5-turbo',\n",
    "                                          tools=[{\"type\": \"fretrieval\"}],\n",
    "                                          file_ids=['file-e1Pcl2inxUUZZoFfC5HUPwXH',\n",
    "                                                    'file-ooaH3ys5sPmrQzq7kRgR4dil',\n",
    "                                                    'file-CTVHrfy3K7KfyIuSJVnxazlS']\n",
    "                                                    )\n",
    "                                          "
   ]
  },
  {
   "cell_type": "code",
   "execution_count": null,
   "id": "903245cf-41b9-4f9b-a782-2a75c25ec6f7",
   "metadata": {},
   "outputs": [],
   "source": [
    "thread = client.beta.threads.create()"
   ]
  },
  {
   "cell_type": "code",
   "execution_count": null,
   "id": "e8850454-f0b6-4edd-b772-db40cf8005cf",
   "metadata": {},
   "outputs": [],
   "source": [
    "message = client.beta.threads.messages.create(thread_id=thread.id\n",
    "                                              role='user',\n",
    "                                              content='Does our dog food allow for artificial ingredients?'\n",
    ")"
   ]
  },
  {
   "cell_type": "code",
   "execution_count": null,
   "id": "596605b5-0601-46d7-8de7-66650fcda7be",
   "metadata": {},
   "outputs": [],
   "source": [
    "run = client.beta.threads.runs.create(thread_id=thread.id,assistant_id=assistant.id,)"
   ]
  },
  {
   "cell_type": "code",
   "execution_count": null,
   "id": "7d37c24c-b8fb-416f-80ab-89ff8437189b",
   "metadata": {},
   "outputs": [],
   "source": [
    "run = client.beta.threads.runs.retrieve(thread_id=thread.id,run_id=run.id,)"
   ]
  },
  {
   "cell_type": "code",
   "execution_count": null,
   "id": "fc2254ca-8aaf-4f56-9599-77387b4d836d",
   "metadata": {},
   "outputs": [],
   "source": [
    "run.status"
   ]
  },
  {
   "cell_type": "raw",
   "id": "de92f02b-d54b-4dbf-9a7b-2b27514dabbb",
   "metadata": {},
   "source": [
    "messages = client.beta.threads.messages.list(thread_id=thread.id, order=\"asc\",)"
   ]
  },
  {
   "cell_type": "code",
   "execution_count": null,
   "id": "33348d40-1638-4c94-b36f-4a5852ea7622",
   "metadata": {},
   "outputs": [],
   "source": [
    "for message in messages:\n",
    "    print(message)\n",
    "    print('\\n')"
   ]
  },
  {
   "cell_type": "code",
   "execution_count": null,
   "id": "db6ed0c4-9401-413f-8d15-81e3b180ec03",
   "metadata": {},
   "outputs": [],
   "source": [
    "def display_thread_messages(messages):\n",
    "    for thread_message in messages.data:\n",
    "        print(thread_message.content[0].text.value)\n",
    "        print('\\n')"
   ]
  },
  {
   "cell_type": "code",
   "execution_count": null,
   "id": "f4c9c210-fecb-42cb-a521-258c58901683",
   "metadata": {},
   "outputs": [],
   "source": [
    "my_assistants = client.beta.assistants.list(order=\"desc\",limit=\"20\",)"
   ]
  },
  {
   "cell_type": "code",
   "execution_count": null,
   "id": "dc8ece33-7695-4601-b37b-0b2850558c93",
   "metadata": {},
   "outputs": [],
   "source": [
    "response = client.beta.assistants.delete(my_assistants.data[0].id)"
   ]
  },
  {
   "cell_type": "code",
   "execution_count": null,
   "id": "c7d49966-3cd8-46ae-84d2-fe77c6505695",
   "metadata": {},
   "outputs": [],
   "source": [
    "response"
   ]
  },
  {
   "cell_type": "code",
   "execution_count": null,
   "id": "a53c9365-83b0-451f-b8ce-284d4366cdd0",
   "metadata": {},
   "outputs": [],
   "source": [
    "for file in client.files.list():\n",
    "    client.files.delete(file.id)"
   ]
  },
  {
   "cell_type": "code",
   "execution_count": null,
   "id": "81d85433-f89c-4710-9135-8858bbbd5eae",
   "metadata": {},
   "outputs": [],
   "source": [
    "client.files.list()"
   ]
  }
 ],
 "metadata": {
  "kernelspec": {
   "display_name": "Python 3 (ipykernel)",
   "language": "python",
   "name": "python3"
  },
  "language_info": {
   "codemirror_mode": {
    "name": "ipython",
    "version": 3
   },
   "file_extension": ".py",
   "mimetype": "text/x-python",
   "name": "python",
   "nbconvert_exporter": "python",
   "pygments_lexer": "ipython3",
   "version": "3.12.4"
  }
 },
 "nbformat": 4,
 "nbformat_minor": 5
}
