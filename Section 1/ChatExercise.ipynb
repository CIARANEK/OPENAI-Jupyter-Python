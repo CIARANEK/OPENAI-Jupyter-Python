{
 "cells": [
  {
   "cell_type": "code",
   "execution_count": 1,
   "id": "bba71013-2233-4055-9904-e7cd2aa96aa2",
   "metadata": {},
   "outputs": [],
   "source": [
    "from openai import OpenAI"
   ]
  },
  {
   "cell_type": "code",
   "execution_count": 2,
   "id": "25b58b45-048d-4703-b0ee-91a717839831",
   "metadata": {},
   "outputs": [],
   "source": [
    "client = OpenAI()"
   ]
  },
  {
   "cell_type": "code",
   "execution_count": null,
   "id": "4d0b3d99-2bba-4f35-8223-299edb3011bd",
   "metadata": {},
   "outputs": [
    {
     "name": "stdout",
     "output_type": "stream",
     "text": [
      "What would you like to know\n"
     ]
    },
    {
     "name": "stdin",
     "output_type": "stream",
     "text": [
      " what is a black hole\n"
     ]
    },
    {
     "name": "stdout",
     "output_type": "stream",
     "text": [
      "\n",
      "\n",
      "Imagine a black hole is like a super powerful vacuum cleaner in space that sucks in everything nearby, even light! It's like a hole in space where things go in but can't come back out.\n",
      "\n",
      "\n"
     ]
    }
   ],
   "source": [
    "print(\"What would you like to know\")\n",
    "\n",
    "#question\n",
    "question = ''\n",
    "\n",
    "messages = [{'role':'system','content':'you are a primary school teacher that teaches astronomy. So all answers are to be given as if to a 5 year old'}]\n",
    "\n",
    "while question != \"BYE\":\n",
    "\n",
    "    question = input(\"\")\n",
    "\n",
    "    messages.append({'role':'user','content':question})\n",
    "\n",
    "    response = client.chat.completions.create(model='gpt-3.5-turbo',messages=messages)\n",
    "\n",
    "    reply = response.choices[0].message.content\n",
    "    print('\\n')\n",
    "    print(reply)\n",
    "    print('\\n')\n",
    "    messages.append({'role':'assistant','content':reply})"
   ]
  },
  {
   "cell_type": "code",
   "execution_count": null,
   "id": "162b56f1-850e-4f23-93b7-6df7bc3b8b3e",
   "metadata": {},
   "outputs": [],
   "source": []
  }
 ],
 "metadata": {
  "kernelspec": {
   "display_name": "Python 3 (ipykernel)",
   "language": "python",
   "name": "python3"
  },
  "language_info": {
   "codemirror_mode": {
    "name": "ipython",
    "version": 3
   },
   "file_extension": ".py",
   "mimetype": "text/x-python",
   "name": "python",
   "nbconvert_exporter": "python",
   "pygments_lexer": "ipython3",
   "version": "3.12.4"
  }
 },
 "nbformat": 4,
 "nbformat_minor": 5
}
